{
 "cells": [
  {
   "cell_type": "code",
   "execution_count": 1,
   "id": "aa0fdeeb-f100-438f-a73b-186b78cf08a4",
   "metadata": {},
   "outputs": [
    {
     "name": "stdout",
     "output_type": "stream",
     "text": [
      "120\n"
     ]
    }
   ],
   "source": [
    "#Recursion is when a function calls itself to solve smaller parts of the same problem.\n",
    "#It keeps calling itself until it reaches a base case (a stopping condition), and then the results get combined'that means \n",
    "#there is a base case which acts as a stopping condition .\n",
    "#structure of recursive function\n",
    "#def function_name(parameters):\n",
    " #   if base_condition:         # base case (stop recursion)\n",
    "  #      return something\n",
    "   # else:\n",
    "    #    return function_name(smaller_problem)   # recursive call\n",
    "#Always define a base case to avoid infinite recursion.\n",
    "def factorial(n):\n",
    "    if n==1 or n==0:    #base condition\n",
    "        return 1\n",
    "    else:\n",
    "        return n*factorial(n-1) #recursive call \n",
    "print(factorial(5))"
   ]
  },
  {
   "cell_type": "code",
   "execution_count": 2,
   "id": "46afed30-b49d-49d4-a491-67d26ac1eeb3",
   "metadata": {},
   "outputs": [
    {
     "data": {
      "text/plain": [
       "50"
      ]
     },
     "execution_count": 2,
     "metadata": {},
     "output_type": "execute_result"
    }
   ],
   "source": [
    "f=lambda x,y:x+y\n",
    "f(20,30)"
   ]
  },
  {
   "cell_type": "code",
   "execution_count": 3,
   "id": "34a02a9b-c9c2-4f4f-9882-86c8887bb8b5",
   "metadata": {},
   "outputs": [
    {
     "name": "stdout",
     "output_type": "stream",
     "text": [
      "[1, 4, 9, 16]\n"
     ]
    }
   ],
   "source": [
    "#map() :it is used for every iterative element ;in this case iterative element is equal to elements of list\n",
    "numbers = [1, 2, 3, 4]\n",
    "squared = list(map(lambda x: x**2, numbers))\n",
    "print(squared)  \n"
   ]
  },
  {
   "cell_type": "code",
   "execution_count": 4,
   "id": "6e69158f-13bc-4768-a97e-9fd805776d90",
   "metadata": {},
   "outputs": [
    {
     "name": "stdout",
     "output_type": "stream",
     "text": [
      "[2, 4, 6]\n"
     ]
    }
   ],
   "source": [
    "#filter():select the required element from given data using given condition\n",
    "numbers = [1, 2, 3, 4, 5, 6]\n",
    "even = list(filter(lambda x: x % 2 == 0, numbers))\n",
    "print(even) \n"
   ]
  },
  {
   "cell_type": "code",
   "execution_count": 5,
   "id": "03353778-aef0-4a1a-9d81-df586ef1960e",
   "metadata": {},
   "outputs": [
    {
     "data": {
      "text/plain": [
       "75"
      ]
     },
     "execution_count": 5,
     "metadata": {},
     "output_type": "execute_result"
    }
   ],
   "source": [
    "#reduce() : repeatedly applies a given function to pairs of elements, accumulating them into a single result.\n",
    "#reduce function is to be imported \n",
    "from functools import reduce\n",
    "num=[1,25,49]\n",
    "reduce(lambda a,b:a+b,num)"
   ]
  },
  {
   "cell_type": "code",
   "execution_count": 6,
   "id": "4838fbc2-0846-45f0-a8f9-eb464e1ec669",
   "metadata": {},
   "outputs": [
    {
     "data": {
      "text/plain": [
       "75"
      ]
     },
     "execution_count": 6,
     "metadata": {},
     "output_type": "execute_result"
    }
   ],
   "source": [
    "sum(num)"
   ]
  }
 ],
 "metadata": {
  "kernelspec": {
   "display_name": "Python 3 (ipykernel)",
   "language": "python",
   "name": "python3"
  },
  "language_info": {
   "codemirror_mode": {
    "name": "ipython",
    "version": 3
   },
   "file_extension": ".py",
   "mimetype": "text/x-python",
   "name": "python",
   "nbconvert_exporter": "python",
   "pygments_lexer": "ipython3",
   "version": "3.13.7"
  }
 },
 "nbformat": 4,
 "nbformat_minor": 5
}
